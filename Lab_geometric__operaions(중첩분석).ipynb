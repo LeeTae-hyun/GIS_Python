{
  "nbformat": 4,
  "nbformat_minor": 0,
  "metadata": {
    "colab": {
      "provenance": [],
      "include_colab_link": true
    },
    "kernelspec": {
      "name": "python3",
      "display_name": "Python 3"
    },
    "language_info": {
      "name": "python"
    }
  },
  "cells": [
    {
      "cell_type": "markdown",
      "metadata": {
        "id": "view-in-github",
        "colab_type": "text"
      },
      "source": [
        "<a href=\"https://colab.research.google.com/github/LeeTae-hyun/GIS_Python/blob/master/Lab_geometric__operaions(%EC%A4%91%EC%B2%A9%EB%B6%84%EC%84%9D).ipynb\" target=\"_parent\"><img src=\"https://colab.research.google.com/assets/colab-badge.svg\" alt=\"Open In Colab\"/></a>"
      ]
    },
    {
      "cell_type": "code",
      "source": [
        "!pip install geopandas"
      ],
      "metadata": {
        "colab": {
          "base_uri": "https://localhost:8080/"
        },
        "id": "HtFgxyM704VR",
        "outputId": "28e5be40-dde0-4ac5-f712-2f2c9d34fdab"
      },
      "execution_count": null,
      "outputs": [
        {
          "output_type": "stream",
          "name": "stdout",
          "text": [
            "Looking in indexes: https://pypi.org/simple, https://us-python.pkg.dev/colab-wheels/public/simple/\n",
            "Collecting geopandas\n",
            "  Downloading geopandas-0.12.2-py3-none-any.whl (1.1 MB)\n",
            "\u001b[2K     \u001b[90m━━━━━━━━━━━━━━━━━━━━━━━━━━━━━━━━━━━━━━━━\u001b[0m \u001b[32m1.1/1.1 MB\u001b[0m \u001b[31m35.8 MB/s\u001b[0m eta \u001b[36m0:00:00\u001b[0m\n",
            "\u001b[?25hRequirement already satisfied: shapely>=1.7 in /usr/local/lib/python3.8/dist-packages (from geopandas) (2.0.1)\n",
            "Requirement already satisfied: packaging in /usr/local/lib/python3.8/dist-packages (from geopandas) (23.0)\n",
            "Collecting pyproj>=2.6.1.post1\n",
            "  Downloading pyproj-3.4.1-cp38-cp38-manylinux_2_17_x86_64.manylinux2014_x86_64.whl (7.8 MB)\n",
            "\u001b[2K     \u001b[90m━━━━━━━━━━━━━━━━━━━━━━━━━━━━━━━━━━━━━━━━\u001b[0m \u001b[32m7.8/7.8 MB\u001b[0m \u001b[31m60.9 MB/s\u001b[0m eta \u001b[36m0:00:00\u001b[0m\n",
            "\u001b[?25hRequirement already satisfied: pandas>=1.0.0 in /usr/local/lib/python3.8/dist-packages (from geopandas) (1.3.5)\n",
            "Collecting fiona>=1.8\n",
            "  Downloading Fiona-1.9.1-cp38-cp38-manylinux_2_17_x86_64.manylinux2014_x86_64.whl (16.0 MB)\n",
            "\u001b[2K     \u001b[90m━━━━━━━━━━━━━━━━━━━━━━━━━━━━━━━━━━━━━━━━\u001b[0m \u001b[32m16.0/16.0 MB\u001b[0m \u001b[31m84.8 MB/s\u001b[0m eta \u001b[36m0:00:00\u001b[0m\n",
            "\u001b[?25hRequirement already satisfied: attrs>=19.2.0 in /usr/local/lib/python3.8/dist-packages (from fiona>=1.8->geopandas) (22.2.0)\n",
            "Collecting click-plugins>=1.0\n",
            "  Downloading click_plugins-1.1.1-py2.py3-none-any.whl (7.5 kB)\n",
            "Requirement already satisfied: setuptools in /usr/local/lib/python3.8/dist-packages (from fiona>=1.8->geopandas) (57.4.0)\n",
            "Collecting cligj>=0.5\n",
            "  Downloading cligj-0.7.2-py3-none-any.whl (7.1 kB)\n",
            "Collecting click~=8.0\n",
            "  Downloading click-8.1.3-py3-none-any.whl (96 kB)\n",
            "\u001b[2K     \u001b[90m━━━━━━━━━━━━━━━━━━━━━━━━━━━━━━━━━━━━━━━━\u001b[0m \u001b[32m96.6/96.6 KB\u001b[0m \u001b[31m13.1 MB/s\u001b[0m eta \u001b[36m0:00:00\u001b[0m\n",
            "\u001b[?25hCollecting munch>=2.3.2\n",
            "  Downloading munch-2.5.0-py2.py3-none-any.whl (10 kB)\n",
            "Requirement already satisfied: certifi in /usr/local/lib/python3.8/dist-packages (from fiona>=1.8->geopandas) (2022.12.7)\n",
            "Requirement already satisfied: numpy>=1.17.3 in /usr/local/lib/python3.8/dist-packages (from pandas>=1.0.0->geopandas) (1.22.4)\n",
            "Requirement already satisfied: python-dateutil>=2.7.3 in /usr/local/lib/python3.8/dist-packages (from pandas>=1.0.0->geopandas) (2.8.2)\n",
            "Requirement already satisfied: pytz>=2017.3 in /usr/local/lib/python3.8/dist-packages (from pandas>=1.0.0->geopandas) (2022.7.1)\n",
            "Requirement already satisfied: six in /usr/local/lib/python3.8/dist-packages (from munch>=2.3.2->fiona>=1.8->geopandas) (1.15.0)\n",
            "Installing collected packages: pyproj, munch, click, cligj, click-plugins, fiona, geopandas\n",
            "  Attempting uninstall: click\n",
            "    Found existing installation: click 7.1.2\n",
            "    Uninstalling click-7.1.2:\n",
            "      Successfully uninstalled click-7.1.2\n",
            "\u001b[31mERROR: pip's dependency resolver does not currently take into account all the packages that are installed. This behaviour is the source of the following dependency conflicts.\n",
            "flask 1.1.4 requires click<8.0,>=5.1, but you have click 8.1.3 which is incompatible.\u001b[0m\u001b[31m\n",
            "\u001b[0mSuccessfully installed click-8.1.3 click-plugins-1.1.1 cligj-0.7.2 fiona-1.9.1 geopandas-0.12.2 munch-2.5.0 pyproj-3.4.1\n"
          ]
        }
      ]
    },
    {
      "cell_type": "code",
      "source": [
        "!pip install mapclassify"
      ],
      "metadata": {
        "colab": {
          "base_uri": "https://localhost:8080/"
        },
        "id": "M_X3_48o7vA7",
        "outputId": "e541d360-bbef-47eb-9e5d-f1f5dcbd6035"
      },
      "execution_count": null,
      "outputs": [
        {
          "output_type": "stream",
          "name": "stdout",
          "text": [
            "Looking in indexes: https://pypi.org/simple, https://us-python.pkg.dev/colab-wheels/public/simple/\n",
            "Collecting mapclassify\n",
            "  Downloading mapclassify-2.5.0-py3-none-any.whl (39 kB)\n",
            "Requirement already satisfied: scikit-learn in /usr/local/lib/python3.8/dist-packages (from mapclassify) (1.0.2)\n",
            "Requirement already satisfied: pandas>=1.0 in /usr/local/lib/python3.8/dist-packages (from mapclassify) (1.3.5)\n",
            "Requirement already satisfied: networkx in /usr/local/lib/python3.8/dist-packages (from mapclassify) (3.0)\n",
            "Requirement already satisfied: numpy>=1.3 in /usr/local/lib/python3.8/dist-packages (from mapclassify) (1.22.4)\n",
            "Requirement already satisfied: scipy>=1.0 in /usr/local/lib/python3.8/dist-packages (from mapclassify) (1.7.3)\n",
            "Requirement already satisfied: pytz>=2017.3 in /usr/local/lib/python3.8/dist-packages (from pandas>=1.0->mapclassify) (2022.7.1)\n",
            "Requirement already satisfied: python-dateutil>=2.7.3 in /usr/local/lib/python3.8/dist-packages (from pandas>=1.0->mapclassify) (2.8.2)\n",
            "Requirement already satisfied: joblib>=0.11 in /usr/local/lib/python3.8/dist-packages (from scikit-learn->mapclassify) (1.2.0)\n",
            "Requirement already satisfied: threadpoolctl>=2.0.0 in /usr/local/lib/python3.8/dist-packages (from scikit-learn->mapclassify) (3.1.0)\n",
            "Requirement already satisfied: six>=1.5 in /usr/local/lib/python3.8/dist-packages (from python-dateutil>=2.7.3->pandas>=1.0->mapclassify) (1.15.0)\n",
            "Installing collected packages: mapclassify\n",
            "Successfully installed mapclassify-2.5.0\n"
          ]
        }
      ]
    },
    {
      "cell_type": "code",
      "source": [
        "import geopandas as gpd\n",
        "import matplotlib.pyplot as plt\n",
        "import shapely.speedups\n",
        "%matplotlib inline\n",
        "from pyproj import CRS"
      ],
      "metadata": {
        "id": "M0OqCKEI1C84"
      },
      "execution_count": null,
      "outputs": []
    },
    {
      "cell_type": "code",
      "source": [
        "border_fp = \"/content/drive/MyDrive/몰룽?/Helsinki/Helsinki_borders.shp\"\n",
        "grid_fp = \"/content/drive/MyDrive/몰룽?/Helsinki/TravelTimes_to_5975375_RailwayStation.shp\"\n",
        "\n",
        "grid = gpd.read_file(grid_fp)\n",
        "hel = gpd.read_file(border_fp)"
      ],
      "metadata": {
        "id": "DauDl2Na0--D"
      },
      "execution_count": null,
      "outputs": []
    },
    {
      "cell_type": "code",
      "source": [
        "ax = grid.plot(facecolor='gray')\n",
        "hel.plot(ax=ax, facecolor='None', edgecolor='blue')"
      ],
      "metadata": {
        "colab": {
          "base_uri": "https://localhost:8080/",
          "height": 294
        },
        "id": "tZl6F5KV1VJ4",
        "outputId": "ccb3ed72-f64d-4220-8a6a-f8b0b4721598"
      },
      "execution_count": null,
      "outputs": [
        {
          "output_type": "execute_result",
          "data": {
            "text/plain": [
              "<AxesSubplot:>"
            ]
          },
          "metadata": {},
          "execution_count": 5
        },
        {
          "output_type": "display_data",
          "data": {
            "text/plain": [
              "<Figure size 432x288 with 1 Axes>"
            ],
            "image/png": "[encoded data removed]"
          },
          "metadata": {
            "needs_background": "light"
          }
        }
      ]
    },
    {
      "cell_type": "code",
      "source": [
        "print(hel.crs)"
      ],
      "metadata": {
        "colab": {
          "base_uri": "https://localhost:8080/"
        },
        "id": "KB60o8nSZPI9",
        "outputId": "1f7bed40-a944-4b83-b8e1-e09026826277"
      },
      "execution_count": null,
      "outputs": [
        {
          "output_type": "stream",
          "name": "stdout",
          "text": [
            "EPSG:3067\n"
          ]
        }
      ]
    },
    {
      "cell_type": "code",
      "source": [
        "assert hel.crs == grid.crs"
      ],
      "metadata": {
        "id": "pikKpI5FZUI2"
      },
      "execution_count": null,
      "outputs": []
    },
    {
      "cell_type": "code",
      "source": [
        "print(grid.crs)"
      ],
      "metadata": {
        "colab": {
          "base_uri": "https://localhost:8080/"
        },
        "id": "zA5ohJe_ZZAI",
        "outputId": "53ccd053-535f-4147-e87a-97c3da8e65e8"
      },
      "execution_count": null,
      "outputs": [
        {
          "output_type": "stream",
          "name": "stdout",
          "text": [
            "EPSG:3067\n"
          ]
        }
      ]
    },
    {
      "cell_type": "code",
      "source": [
        "intersection = gpd.overlay(grid, hel, how='intersection')\n",
        "intersection.plot(color='b')"
      ],
      "metadata": {
        "colab": {
          "base_uri": "https://localhost:8080/",
          "height": 294
        },
        "id": "FUl7ABaNZbg-",
        "outputId": "e068ee88-6b0f-48ac-b0de-3aa3bb3d1919"
      },
      "execution_count": null,
      "outputs": [
        {
          "output_type": "execute_result",
          "data": {
            "text/plain": [
              "<AxesSubplot:>"
            ]
          },
          "metadata": {},
          "execution_count": 9
        },
        {
          "output_type": "display_data",
          "data": {
            "text/plain": [
              "<Figure size 432x288 with 1 Axes>"
            ],
            "image/png": "[encoded data removed]"
          },
          "metadata": {
            "needs_background": "light"
          }
        }
      ]
    },
    {
      "cell_type": "code",
      "source": [
        "intersection.head()"
      ],
      "metadata": {
        "colab": {
          "base_uri": "https://localhost:8080/",
          "height": 206
        },
        "id": "BDxWHxljZlWk",
        "outputId": "0e6a9347-0895-4ad2-d520-a8b86dba53ba"
      },
      "execution_count": null,
      "outputs": [
        {
          "output_type": "execute_result",
          "data": {
            "text/plain": [
              "   car_m_d  car_m_t  car_r_d  car_r_t  from_id  pt_m_d  pt_m_t  pt_m_tt  \\\n",
              "0    29476       41    29483       46  5876274   29990      76       95   \n",
              "1    29456       41    29462       46  5876275   29866      74       95   \n",
              "2    36772       50    36778       56  5876278   33541     116      137   \n",
              "3    36898       49    36904       56  5876279   33720     119      141   \n",
              "4    29411       40    29418       44  5878128   29944      75       95   \n",
              "\n",
              "   pt_r_d  pt_r_t  pt_r_tt    to_id  walk_d  walk_t    GML_ID   NAMEFIN  \\\n",
              "0   24984      77       99  5975375   25532     365  27517366  Helsinki   \n",
              "1   24860      75       93  5975375   25408     363  27517366  Helsinki   \n",
              "2   44265     130      146  5975375   31110     444  27517366  Helsinki   \n",
              "3   44444     132      155  5975375   31289     447  27517366  Helsinki   \n",
              "4   24938      76       99  5975375   25486     364  27517366  Helsinki   \n",
              "\n",
              "       NAMESWE NATCODE                                           geometry  \n",
              "0  Helsingfors     091  POLYGON ((402024.224 6685750.000, 402003.328 6...  \n",
              "1  Helsingfors     091  POLYGON ((402250.000 6685750.000, 402250.000 6...  \n",
              "2  Helsingfors     091  POLYGON ((403148.515 6685750.000, 403243.781 6...  \n",
              "3  Helsingfors     091  POLYGON ((403250.000 6685750.000, 403250.000 6...  \n",
              "4  Helsingfors     091  POLYGON ((401900.425 6685500.000, 402000.000 6...  "
            ],
            "text/html": [
              "\n",
              "  <div id=\"df-1e5aeaf8-e60f-4d7e-a3c2-5e0f459b41f8\">\n",
              "    <div class=\"colab-df-container\">\n",
              "      <div>\n",
              "<style scoped>\n",
              "    .dataframe tbody tr th:only-of-type {\n",
              "        vertical-align: middle;\n",
              "    }\n",
              "\n",
              "    .dataframe tbody tr th {\n",
              "        vertical-align: top;\n",
              "    }\n",
              "\n",
              "    .dataframe thead th {\n",
              "        text-align: right;\n",
              "    }\n",
              "</style>\n",
              "<table border=\"1\" class=\"dataframe\">\n",
              "  <thead>\n",
              "    <tr style=\"text-align: right;\">\n",
              "      <th></th>\n",
              "      <th>car_m_d</th>\n",
              "      <th>car_m_t</th>\n",
              "      <th>car_r_d</th>\n",
              "      <th>car_r_t</th>\n",
              "      <th>from_id</th>\n",
              "      <th>pt_m_d</th>\n",
              "      <th>pt_m_t</th>\n",
              "      <th>pt_m_tt</th>\n",
              "      <th>pt_r_d</th>\n",
              "      <th>pt_r_t</th>\n",
              "      <th>pt_r_tt</th>\n",
              "      <th>to_id</th>\n",
              "      <th>walk_d</th>\n",
              "      <th>walk_t</th>\n",
              "      <th>GML_ID</th>\n",
              "      <th>NAMEFIN</th>\n",
              "      <th>NAMESWE</th>\n",
              "      <th>NATCODE</th>\n",
              "      <th>geometry</th>\n",
              "    </tr>\n",
              "  </thead>\n",
              "  <tbody>\n",
              "    <tr>\n",
              "      <th>0</th>\n",
              "      <td>29476</td>\n",
              "      <td>41</td>\n",
              "      <td>29483</td>\n",
              "      <td>46</td>\n",
              "      <td>5876274</td>\n",
              "      <td>29990</td>\n",
              "      <td>76</td>\n",
              "      <td>95</td>\n",
              "      <td>24984</td>\n",
              "      <td>77</td>\n",
              "      <td>99</td>\n",
              "      <td>5975375</td>\n",
              "      <td>25532</td>\n",
              "      <td>365</td>\n",
              "      <td>27517366</td>\n",
              "      <td>Helsinki</td>\n",
              "      <td>Helsingfors</td>\n",
              "      <td>091</td>\n",
              "      <td>POLYGON ((402024.224 6685750.000, 402003.328 6...</td>\n",
              "    </tr>\n",
              "    <tr>\n",
              "      <th>1</th>\n",
              "      <td>29456</td>\n",
              "      <td>41</td>\n",
              "      <td>29462</td>\n",
              "      <td>46</td>\n",
              "      <td>5876275</td>\n",
              "      <td>29866</td>\n",
              "      <td>74</td>\n",
              "      <td>95</td>\n",
              "      <td>24860</td>\n",
              "      <td>75</td>\n",
              "      <td>93</td>\n",
              "      <td>5975375</td>\n",
              "      <td>25408</td>\n",
              "      <td>363</td>\n",
              "      <td>27517366</td>\n",
              "      <td>Helsinki</td>\n",
              "      <td>Helsingfors</td>\n",
              "      <td>091</td>\n",
              "      <td>POLYGON ((402250.000 6685750.000, 402250.000 6...</td>\n",
              "    </tr>\n",
              "    <tr>\n",
              "      <th>2</th>\n",
              "      <td>36772</td>\n",
              "      <td>50</td>\n",
              "      <td>36778</td>\n",
              "      <td>56</td>\n",
              "      <td>5876278</td>\n",
              "      <td>33541</td>\n",
              "      <td>116</td>\n",
              "      <td>137</td>\n",
              "      <td>44265</td>\n",
              "      <td>130</td>\n",
              "      <td>146</td>\n",
              "      <td>5975375</td>\n",
              "      <td>31110</td>\n",
              "      <td>444</td>\n",
              "      <td>27517366</td>\n",
              "      <td>Helsinki</td>\n",
              "      <td>Helsingfors</td>\n",
              "      <td>091</td>\n",
              "      <td>POLYGON ((403148.515 6685750.000, 403243.781 6...</td>\n",
              "    </tr>\n",
              "    <tr>\n",
              "      <th>3</th>\n",
              "      <td>36898</td>\n",
              "      <td>49</td>\n",
              "      <td>36904</td>\n",
              "      <td>56</td>\n",
              "      <td>5876279</td>\n",
              "      <td>33720</td>\n",
              "      <td>119</td>\n",
              "      <td>141</td>\n",
              "      <td>44444</td>\n",
              "      <td>132</td>\n",
              "      <td>155</td>\n",
              "      <td>5975375</td>\n",
              "      <td>31289</td>\n",
              "      <td>447</td>\n",
              "      <td>27517366</td>\n",
              "      <td>Helsinki</td>\n",
              "      <td>Helsingfors</td>\n",
              "      <td>091</td>\n",
              "      <td>POLYGON ((403250.000 6685750.000, 403250.000 6...</td>\n",
              "    </tr>\n",
              "    <tr>\n",
              "      <th>4</th>\n",
              "      <td>29411</td>\n",
              "      <td>40</td>\n",
              "      <td>29418</td>\n",
              "      <td>44</td>\n",
              "      <td>5878128</td>\n",
              "      <td>29944</td>\n",
              "      <td>75</td>\n",
              "      <td>95</td>\n",
              "      <td>24938</td>\n",
              "      <td>76</td>\n",
              "      <td>99</td>\n",
              "      <td>5975375</td>\n",
              "      <td>25486</td>\n",
              "      <td>364</td>\n",
              "      <td>27517366</td>\n",
              "      <td>Helsinki</td>\n",
              "      <td>Helsingfors</td>\n",
              "      <td>091</td>\n",
              "      <td>POLYGON ((401900.425 6685500.000, 402000.000 6...</td>\n",
              "    </tr>\n",
              "  </tbody>\n",
              "</table>\n",
              "</div>\n",
              "      <button class=\"colab-df-convert\" onclick=\"convertToInteractive('df-1e5aeaf8-e60f-4d7e-a3c2-5e0f459b41f8')\"\n",
              "              title=\"Convert this dataframe to an interactive table.\"\n",
              "              style=\"display:none;\">\n",
              "        \n",
              "  <svg xmlns=\"http://www.w3.org/2000/svg\" height=\"24px\"viewBox=\"0 0 24 24\"\n",
              "       width=\"24px\">\n",
              "    <path d=\"M0 0h24v24H0V0z\" fill=\"none\"/>\n",
              "    <path d=\"M18.56 5.44l.94 2.06.94-2.06 2.06-.94-2.06-.94-.94-2.06-.94 2.06-2.06.94zm-11 1L8.5 8.5l.94-2.06 2.06-.94-2.06-.94L8.5 2.5l-.94 2.06-2.06.94zm10 10l.94 2.06.94-2.06 2.06-.94-2.06-.94-.94-2.06-.94 2.06-2.06.94z\"/><path d=\"M17.41 7.96l-1.37-1.37c-.4-.4-.92-.59-1.43-.59-.52 0-1.04.2-1.43.59L10.3 9.45l-7.72 7.72c-.78.78-.78 2.05 0 2.83L4 21.41c.39.39.9.59 1.41.59.51 0 1.02-.2 1.41-.59l7.78-7.78 2.81-2.81c.8-.78.8-2.07 0-2.86zM5.41 20L4 18.59l7.72-7.72 1.47 1.35L5.41 20z\"/>\n",
              "  </svg>\n",
              "      </button>\n",
              "      \n",
              "  <style>\n",
              "    .colab-df-container {\n",
              "      display:flex;\n",
              "      flex-wrap:wrap;\n",
              "      gap: 12px;\n",
              "    }\n",
              "\n",
              "    .colab-df-convert {\n",
              "      background-color: #E8F0FE;\n",
              "      border: none;\n",
              "      border-radius: 50%;\n",
              "      cursor: pointer;\n",
              "      display: none;\n",
              "      fill: #1967D2;\n",
              "      height: 32px;\n",
              "      padding: 0 0 0 0;\n",
              "      width: 32px;\n",
              "    }\n",
              "\n",
              "    .colab-df-convert:hover {\n",
              "      background-color: #E2EBFA;\n",
              "      box-shadow: 0px 1px 2px rgba(60, 64, 67, 0.3), 0px 1px 3px 1px rgba(60, 64, 67, 0.15);\n",
              "      fill: #174EA6;\n",
              "    }\n",
              "\n",
              "    [theme=dark] .colab-df-convert {\n",
              "      background-color: #3B4455;\n",
              "      fill: #D2E3FC;\n",
              "    }\n",
              "\n",
              "    [theme=dark] .colab-df-convert:hover {\n",
              "      background-color: #434B5C;\n",
              "      box-shadow: 0px 1px 3px 1px rgba(0, 0, 0, 0.15);\n",
              "      filter: drop-shadow(0px 1px 2px rgba(0, 0, 0, 0.3));\n",
              "      fill: #FFFFFF;\n",
              "    }\n",
              "  </style>\n",
              "\n",
              "      <script>\n",
              "        const buttonEl =\n",
              "          document.querySelector('#df-1e5aeaf8-e60f-4d7e-a3c2-5e0f459b41f8 button.colab-df-convert');\n",
              "        buttonEl.style.display =\n",
              "          google.colab.kernel.accessAllowed ? 'block' : 'none';\n",
              "\n",
              "        async function convertToInteractive(key) {\n",
              "          const element = document.querySelector('#df-1e5aeaf8-e60f-4d7e-a3c2-5e0f459b41f8');\n",
              "          const dataTable =\n",
              "            await google.colab.kernel.invokeFunction('convertToInteractive',\n",
              "                                                     [key], {});\n",
              "          if (!dataTable) return;\n",
              "\n",
              "          const docLinkHtml = 'Like what you see? Visit the ' +\n",
              "            '<a target=\"_blank\" href=https://colab.research.google.com/notebooks/data_table.ipynb>data table notebook</a>'\n",
              "            + ' to learn more about interactive tables.';\n",
              "          element.innerHTML = '';\n",
              "          dataTable['output_type'] = 'display_data';\n",
              "          await google.colab.output.renderOutput(dataTable, element);\n",
              "          const docLink = document.createElement('div');\n",
              "          docLink.innerHTML = docLinkHtml;\n",
              "          element.appendChild(docLink);\n",
              "        }\n",
              "      </script>\n",
              "    </div>\n",
              "  </div>\n",
              "  "
            ]
          },
          "metadata": {},
          "execution_count": 10
        }
      ]
    },
    {
      "cell_type": "code",
      "source": [
        "dissolved = intersection.dissolve(by=\"car_r_t\")\n",
        "dissolved.head()"
      ],
      "metadata": {
        "colab": {
          "base_uri": "https://localhost:8080/",
          "height": 237
        },
        "id": "8SBfL1FqZ--g",
        "outputId": "6342553c-3a70-49bb-91a1-03041f3a9b5f"
      },
      "execution_count": null,
      "outputs": [
        {
          "output_type": "execute_result",
          "data": {
            "text/plain": [
              "                                                  geometry  car_m_d  car_m_t  \\\n",
              "car_r_t                                                                        \n",
              "-1       MULTIPOLYGON (((384750.000 6670000.000, 384500...       -1       -1   \n",
              " 0       POLYGON ((385750.000 6672000.000, 385750.000 6...        0        0   \n",
              " 7       POLYGON ((386250.000 6671750.000, 386000.000 6...     1051        7   \n",
              " 8       MULTIPOLYGON (((386000.000 6671500.000, 385750...     1286        8   \n",
              " 9       MULTIPOLYGON (((385000.000 6671250.000, 385000...     1871        9   \n",
              "\n",
              "         car_r_d  from_id  pt_m_d  pt_m_t  pt_m_tt  pt_r_d  pt_r_t  pt_r_tt  \\\n",
              "car_r_t                                                                       \n",
              "-1            -1  5913094      -1      -1       -1      -1      -1       -1   \n",
              " 0             0  5975375       0       0        0       0       0        0   \n",
              " 7          1051  5973739     617       5        6     617       5        6   \n",
              " 8          1286  5973736     706      10       10     706      10       10   \n",
              " 9          1871  5970457    1384      11       13    1394      11       12   \n",
              "\n",
              "           to_id  walk_d  walk_t    GML_ID   NAMEFIN      NAMESWE NATCODE  \n",
              "car_r_t                                                                    \n",
              "-1            -1      -1      -1  27517366  Helsinki  Helsingfors     091  \n",
              " 0       5975375       0       0  27517366  Helsinki  Helsingfors     091  \n",
              " 7       5975375     448       6  27517366  Helsinki  Helsingfors     091  \n",
              " 8       5975375     706      10  27517366  Helsinki  Helsingfors     091  \n",
              " 9       5975375    1249      18  27517366  Helsinki  Helsingfors     091  "
            ],
            "text/html": [
              "\n",
              "  <div id=\"df-901c50f6-803e-43a4-aee4-bf55b5439e0f\">\n",
              "    <div class=\"colab-df-container\">\n",
              "      <div>\n",
              "<style scoped>\n",
              "    .dataframe tbody tr th:only-of-type {\n",
              "        vertical-align: middle;\n",
              "    }\n",
              "\n",
              "    .dataframe tbody tr th {\n",
              "        vertical-align: top;\n",
              "    }\n",
              "\n",
              "    .dataframe thead th {\n",
              "        text-align: right;\n",
              "    }\n",
              "</style>\n",
              "<table border=\"1\" class=\"dataframe\">\n",
              "  <thead>\n",
              "    <tr style=\"text-align: right;\">\n",
              "      <th></th>\n",
              "      <th>geometry</th>\n",
              "      <th>car_m_d</th>\n",
              "      <th>car_m_t</th>\n",
              "      <th>car_r_d</th>\n",
              "      <th>from_id</th>\n",
              "      <th>pt_m_d</th>\n",
              "      <th>pt_m_t</th>\n",
              "      <th>pt_m_tt</th>\n",
              "      <th>pt_r_d</th>\n",
              "      <th>pt_r_t</th>\n",
              "      <th>pt_r_tt</th>\n",
              "      <th>to_id</th>\n",
              "      <th>walk_d</th>\n",
              "      <th>walk_t</th>\n",
              "      <th>GML_ID</th>\n",
              "      <th>NAMEFIN</th>\n",
              "      <th>NAMESWE</th>\n",
              "      <th>NATCODE</th>\n",
              "    </tr>\n",
              "    <tr>\n",
              "      <th>car_r_t</th>\n",
              "      <th></th>\n",
              "      <th></th>\n",
              "      <th></th>\n",
              "      <th></th>\n",
              "      <th></th>\n",
              "      <th></th>\n",
              "      <th></th>\n",
              "      <th></th>\n",
              "      <th></th>\n",
              "      <th></th>\n",
              "      <th></th>\n",
              "      <th></th>\n",
              "      <th></th>\n",
              "      <th></th>\n",
              "      <th></th>\n",
              "      <th></th>\n",
              "      <th></th>\n",
              "      <th></th>\n",
              "    </tr>\n",
              "  </thead>\n",
              "  <tbody>\n",
              "    <tr>\n",
              "      <th>-1</th>\n",
              "      <td>MULTIPOLYGON (((384750.000 6670000.000, 384500...</td>\n",
              "      <td>-1</td>\n",
              "      <td>-1</td>\n",
              "      <td>-1</td>\n",
              "      <td>5913094</td>\n",
              "      <td>-1</td>\n",
              "      <td>-1</td>\n",
              "      <td>-1</td>\n",
              "      <td>-1</td>\n",
              "      <td>-1</td>\n",
              "      <td>-1</td>\n",
              "      <td>-1</td>\n",
              "      <td>-1</td>\n",
              "      <td>-1</td>\n",
              "      <td>27517366</td>\n",
              "      <td>Helsinki</td>\n",
              "      <td>Helsingfors</td>\n",
              "      <td>091</td>\n",
              "    </tr>\n",
              "    <tr>\n",
              "      <th>0</th>\n",
              "      <td>POLYGON ((385750.000 6672000.000, 385750.000 6...</td>\n",
              "      <td>0</td>\n",
              "      <td>0</td>\n",
              "      <td>0</td>\n",
              "      <td>5975375</td>\n",
              "      <td>0</td>\n",
              "      <td>0</td>\n",
              "      <td>0</td>\n",
              "      <td>0</td>\n",
              "      <td>0</td>\n",
              "      <td>0</td>\n",
              "      <td>5975375</td>\n",
              "      <td>0</td>\n",
              "      <td>0</td>\n",
              "      <td>27517366</td>\n",
              "      <td>Helsinki</td>\n",
              "      <td>Helsingfors</td>\n",
              "      <td>091</td>\n",
              "    </tr>\n",
              "    <tr>\n",
              "      <th>7</th>\n",
              "      <td>POLYGON ((386250.000 6671750.000, 386000.000 6...</td>\n",
              "      <td>1051</td>\n",
              "      <td>7</td>\n",
              "      <td>1051</td>\n",
              "      <td>5973739</td>\n",
              "      <td>617</td>\n",
              "      <td>5</td>\n",
              "      <td>6</td>\n",
              "      <td>617</td>\n",
              "      <td>5</td>\n",
              "      <td>6</td>\n",
              "      <td>5975375</td>\n",
              "      <td>448</td>\n",
              "      <td>6</td>\n",
              "      <td>27517366</td>\n",
              "      <td>Helsinki</td>\n",
              "      <td>Helsingfors</td>\n",
              "      <td>091</td>\n",
              "    </tr>\n",
              "    <tr>\n",
              "      <th>8</th>\n",
              "      <td>MULTIPOLYGON (((386000.000 6671500.000, 385750...</td>\n",
              "      <td>1286</td>\n",
              "      <td>8</td>\n",
              "      <td>1286</td>\n",
              "      <td>5973736</td>\n",
              "      <td>706</td>\n",
              "      <td>10</td>\n",
              "      <td>10</td>\n",
              "      <td>706</td>\n",
              "      <td>10</td>\n",
              "      <td>10</td>\n",
              "      <td>5975375</td>\n",
              "      <td>706</td>\n",
              "      <td>10</td>\n",
              "      <td>27517366</td>\n",
              "      <td>Helsinki</td>\n",
              "      <td>Helsingfors</td>\n",
              "      <td>091</td>\n",
              "    </tr>\n",
              "    <tr>\n",
              "      <th>9</th>\n",
              "      <td>MULTIPOLYGON (((385000.000 6671250.000, 385000...</td>\n",
              "      <td>1871</td>\n",
              "      <td>9</td>\n",
              "      <td>1871</td>\n",
              "      <td>5970457</td>\n",
              "      <td>1384</td>\n",
              "      <td>11</td>\n",
              "      <td>13</td>\n",
              "      <td>1394</td>\n",
              "      <td>11</td>\n",
              "      <td>12</td>\n",
              "      <td>5975375</td>\n",
              "      <td>1249</td>\n",
              "      <td>18</td>\n",
              "      <td>27517366</td>\n",
              "      <td>Helsinki</td>\n",
              "      <td>Helsingfors</td>\n",
              "      <td>091</td>\n",
              "    </tr>\n",
              "  </tbody>\n",
              "</table>\n",
              "</div>\n",
              "      <button class=\"colab-df-convert\" onclick=\"convertToInteractive('df-901c50f6-803e-43a4-aee4-bf55b5439e0f')\"\n",
              "              title=\"Convert this dataframe to an interactive table.\"\n",
              "              style=\"display:none;\">\n",
              "        \n",
              "  <svg xmlns=\"http://www.w3.org/2000/svg\" height=\"24px\"viewBox=\"0 0 24 24\"\n",
              "       width=\"24px\">\n",
              "    <path d=\"M0 0h24v24H0V0z\" fill=\"none\"/>\n",
              "    <path d=\"M18.56 5.44l.94 2.06.94-2.06 2.06-.94-2.06-.94-.94-2.06-.94 2.06-2.06.94zm-11 1L8.5 8.5l.94-2.06 2.06-.94-2.06-.94L8.5 2.5l-.94 2.06-2.06.94zm10 10l.94 2.06.94-2.06 2.06-.94-2.06-.94-.94-2.06-.94 2.06-2.06.94z\"/><path d=\"M17.41 7.96l-1.37-1.37c-.4-.4-.92-.59-1.43-.59-.52 0-1.04.2-1.43.59L10.3 9.45l-7.72 7.72c-.78.78-.78 2.05 0 2.83L4 21.41c.39.39.9.59 1.41.59.51 0 1.02-.2 1.41-.59l7.78-7.78 2.81-2.81c.8-.78.8-2.07 0-2.86zM5.41 20L4 18.59l7.72-7.72 1.47 1.35L5.41 20z\"/>\n",
              "  </svg>\n",
              "      </button>\n",
              "      \n",
              "  <style>\n",
              "    .colab-df-container {\n",
              "      display:flex;\n",
              "      flex-wrap:wrap;\n",
              "      gap: 12px;\n",
              "    }\n",
              "\n",
              "    .colab-df-convert {\n",
              "      background-color: #E8F0FE;\n",
              "      border: none;\n",
              "      border-radius: 50%;\n",
              "      cursor: pointer;\n",
              "      display: none;\n",
              "      fill: #1967D2;\n",
              "      height: 32px;\n",
              "      padding: 0 0 0 0;\n",
              "      width: 32px;\n",
              "    }\n",
              "\n",
              "    .colab-df-convert:hover {\n",
              "      background-color: #E2EBFA;\n",
              "      box-shadow: 0px 1px 2px rgba(60, 64, 67, 0.3), 0px 1px 3px 1px rgba(60, 64, 67, 0.15);\n",
              "      fill: #174EA6;\n",
              "    }\n",
              "\n",
              "    [theme=dark] .colab-df-convert {\n",
              "      background-color: #3B4455;\n",
              "      fill: #D2E3FC;\n",
              "    }\n",
              "\n",
              "    [theme=dark] .colab-df-convert:hover {\n",
              "      background-color: #434B5C;\n",
              "      box-shadow: 0px 1px 3px 1px rgba(0, 0, 0, 0.15);\n",
              "      filter: drop-shadow(0px 1px 2px rgba(0, 0, 0, 0.3));\n",
              "      fill: #FFFFFF;\n",
              "    }\n",
              "  </style>\n",
              "\n",
              "      <script>\n",
              "        const buttonEl =\n",
              "          document.querySelector('#df-901c50f6-803e-43a4-aee4-bf55b5439e0f button.colab-df-convert');\n",
              "        buttonEl.style.display =\n",
              "          google.colab.kernel.accessAllowed ? 'block' : 'none';\n",
              "\n",
              "        async function convertToInteractive(key) {\n",
              "          const element = document.querySelector('#df-901c50f6-803e-43a4-aee4-bf55b5439e0f');\n",
              "          const dataTable =\n",
              "            await google.colab.kernel.invokeFunction('convertToInteractive',\n",
              "                                                     [key], {});\n",
              "          if (!dataTable) return;\n",
              "\n",
              "          const docLinkHtml = 'Like what you see? Visit the ' +\n",
              "            '<a target=\"_blank\" href=https://colab.research.google.com/notebooks/data_table.ipynb>data table notebook</a>'\n",
              "            + ' to learn more about interactive tables.';\n",
              "          element.innerHTML = '';\n",
              "          dataTable['output_type'] = 'display_data';\n",
              "          await google.colab.output.renderOutput(dataTable, element);\n",
              "          const docLink = document.createElement('div');\n",
              "          docLink.innerHTML = docLinkHtml;\n",
              "          element.appendChild(docLink);\n",
              "        }\n",
              "      </script>\n",
              "    </div>\n",
              "  </div>\n",
              "  "
            ]
          },
          "metadata": {},
          "execution_count": 11
        }
      ]
    },
    {
      "cell_type": "code",
      "source": [
        "print(f'Rows in original intersection GeoDataFrame: {len(intersection)}')\n",
        "print(f'Rows in dissolved layer: {len(dissolved)}')"
      ],
      "metadata": {
        "colab": {
          "base_uri": "https://localhost:8080/"
        },
        "id": "YSEt8joMZ-8N",
        "outputId": "2a367076-56de-406c-ba87-772e367591ae"
      },
      "execution_count": null,
      "outputs": [
        {
          "output_type": "stream",
          "name": "stdout",
          "text": [
            "Rows in original intersection GeoDataFrame: 3826\n",
            "Rows in dissolved layer: 51\n"
          ]
        }
      ]
    },
    {
      "cell_type": "code",
      "source": [
        "dissolved.columns"
      ],
      "metadata": {
        "colab": {
          "base_uri": "https://localhost:8080/"
        },
        "id": "4U46NgeKZ-5-",
        "outputId": "207b18ab-9f66-4706-a593-e607bf63405a"
      },
      "execution_count": null,
      "outputs": [
        {
          "output_type": "execute_result",
          "data": {
            "text/plain": [
              "Index(['geometry', 'car_m_d', 'car_m_t', 'car_r_d', 'from_id', 'pt_m_d',\n",
              "       'pt_m_t', 'pt_m_tt', 'pt_r_d', 'pt_r_t', 'pt_r_tt', 'to_id', 'walk_d',\n",
              "       'walk_t', 'GML_ID', 'NAMEFIN', 'NAMESWE', 'NATCODE'],\n",
              "      dtype='object')"
            ]
          },
          "metadata": {},
          "execution_count": 13
        }
      ]
    },
    {
      "cell_type": "code",
      "source": [
        "dissolved.index"
      ],
      "metadata": {
        "colab": {
          "base_uri": "https://localhost:8080/"
        },
        "id": "l34zTzA7Z-3O",
        "outputId": "5c5e99a9-f0ba-4aff-e2ae-62133864c3d3"
      },
      "execution_count": null,
      "outputs": [
        {
          "output_type": "execute_result",
          "data": {
            "text/plain": [
              "Int64Index([-1,  0,  7,  8,  9, 10, 11, 12, 13, 14, 15, 16, 17, 18, 19, 20, 21,\n",
              "            22, 23, 24, 25, 26, 27, 28, 29, 30, 31, 32, 33, 34, 35, 36, 37, 38,\n",
              "            39, 40, 41, 42, 43, 44, 45, 46, 47, 48, 49, 50, 51, 52, 53, 54,\n",
              "            56],\n",
              "           dtype='int64', name='car_r_t')"
            ]
          },
          "metadata": {},
          "execution_count": 14
        }
      ]
    },
    {
      "cell_type": "code",
      "source": [
        "dissolved.loc[15]"
      ],
      "metadata": {
        "colab": {
          "base_uri": "https://localhost:8080/"
        },
        "id": "NDmXD6FpZ-1d",
        "outputId": "9951f508-0cdb-4e5e-abb7-1795332c90ca"
      },
      "execution_count": null,
      "outputs": [
        {
          "output_type": "execute_result",
          "data": {
            "text/plain": [
              "geometry    MULTIPOLYGON (((384000.00013620744 6670750.000...\n",
              "car_m_d                                                  7458\n",
              "car_m_t                                                    13\n",
              "car_r_d                                                  7458\n",
              "from_id                                               5934913\n",
              "pt_m_d                                                   6858\n",
              "pt_m_t                                                     26\n",
              "pt_m_tt                                                    30\n",
              "pt_r_d                                                   6858\n",
              "pt_r_t                                                     27\n",
              "pt_r_tt                                                    32\n",
              "to_id                                                 5975375\n",
              "walk_d                                                   6757\n",
              "walk_t                                                     97\n",
              "GML_ID                                               27517366\n",
              "NAMEFIN                                              Helsinki\n",
              "NAMESWE                                           Helsingfors\n",
              "NATCODE                                                   091\n",
              "Name: 15, dtype: object"
            ]
          },
          "metadata": {},
          "execution_count": 15
        }
      ]
    },
    {
      "cell_type": "code",
      "source": [
        "type(dissolved.loc[15])"
      ],
      "metadata": {
        "colab": {
          "base_uri": "https://localhost:8080/"
        },
        "id": "r2417ZgKZ-zj",
        "outputId": "1e222029-68fe-445a-c698-c447ed9070f1"
      },
      "execution_count": null,
      "outputs": [
        {
          "output_type": "execute_result",
          "data": {
            "text/plain": [
              "pandas.core.series.Series"
            ]
          },
          "metadata": {},
          "execution_count": 16
        }
      ]
    },
    {
      "cell_type": "code",
      "source": [
        "dissolved.loc[15].head()"
      ],
      "metadata": {
        "colab": {
          "base_uri": "https://localhost:8080/"
        },
        "id": "pIFDxbruZ-w-",
        "outputId": "5bf4febe-8b58-4170-c4c0-7d62cfae70ff"
      },
      "execution_count": null,
      "outputs": [
        {
          "output_type": "execute_result",
          "data": {
            "text/plain": [
              "geometry    MULTIPOLYGON (((384000.00013620744 6670750.000...\n",
              "car_m_d                                                  7458\n",
              "car_m_t                                                    13\n",
              "car_r_d                                                  7458\n",
              "from_id                                               5934913\n",
              "Name: 15, dtype: object"
            ]
          },
          "metadata": {},
          "execution_count": 17
        }
      ]
    },
    {
      "cell_type": "code",
      "source": [
        "selection = gpd.GeoDataFrame([dissolved.loc[15]], crs=dissolved.crs)"
      ],
      "metadata": {
        "id": "7B3GXi3gZ-t8"
      },
      "execution_count": null,
      "outputs": []
    },
    {
      "cell_type": "code",
      "source": [
        "ax = dissolved.plot(facecolor='gray')\n",
        "selection.plot(ax=ax, facecolor='red')"
      ],
      "metadata": {
        "colab": {
          "base_uri": "https://localhost:8080/",
          "height": 294
        },
        "id": "rOKm9O2pZ-oE",
        "outputId": "3652c2dc-f5e8-458b-f433-93e2dca4598e"
      },
      "execution_count": null,
      "outputs": [
        {
          "output_type": "execute_result",
          "data": {
            "text/plain": [
              "<AxesSubplot:>"
            ]
          },
          "metadata": {},
          "execution_count": 19
        },
        {
          "output_type": "display_data",
          "data": {
            "text/plain": [
              "<Figure size 432x288 with 1 Axes>"
            ],
            "image/png": "[encoded data removed]"
          },
          "metadata": {
            "needs_background": "light"
          }
        }
      ]
    },
    {
      "cell_type": "code",
      "source": [
        "dissolved = dissolved.reset_index()\n",
        "dissolved.head()"
      ],
      "metadata": {
        "colab": {
          "base_uri": "https://localhost:8080/",
          "height": 206
        },
        "id": "RdAU8byaA7MJ",
        "outputId": "fdba5846-c644-41e1-ac93-43a130381657"
      },
      "execution_count": null,
      "outputs": [
        {
          "output_type": "execute_result",
          "data": {
            "text/plain": [
              "   car_r_t                                           geometry  car_m_d  \\\n",
              "0       -1  MULTIPOLYGON (((384750.000 6670000.000, 384500...       -1   \n",
              "1        0  POLYGON ((385750.000 6672000.000, 385750.000 6...        0   \n",
              "2        7  POLYGON ((386250.000 6671750.000, 386000.000 6...     1051   \n",
              "3        8  MULTIPOLYGON (((386000.000 6671500.000, 385750...     1286   \n",
              "4        9  MULTIPOLYGON (((385000.000 6671250.000, 385000...     1871   \n",
              "\n",
              "   car_m_t  car_r_d  from_id  pt_m_d  pt_m_t  pt_m_tt  pt_r_d  pt_r_t  \\\n",
              "0       -1       -1  5913094      -1      -1       -1      -1      -1   \n",
              "1        0        0  5975375       0       0        0       0       0   \n",
              "2        7     1051  5973739     617       5        6     617       5   \n",
              "3        8     1286  5973736     706      10       10     706      10   \n",
              "4        9     1871  5970457    1384      11       13    1394      11   \n",
              "\n",
              "   pt_r_tt    to_id  walk_d  walk_t    GML_ID   NAMEFIN      NAMESWE NATCODE  \n",
              "0       -1       -1      -1      -1  27517366  Helsinki  Helsingfors     091  \n",
              "1        0  5975375       0       0  27517366  Helsinki  Helsingfors     091  \n",
              "2        6  5975375     448       6  27517366  Helsinki  Helsingfors     091  \n",
              "3       10  5975375     706      10  27517366  Helsinki  Helsingfors     091  \n",
              "4       12  5975375    1249      18  27517366  Helsinki  Helsingfors     091  "
            ],
            "text/html": [
              "\n",
              "  <div id=\"df-7670b92a-a401-43c0-a058-8c535c4130de\">\n",
              "    <div class=\"colab-df-container\">\n",
              "      <div>\n",
              "<style scoped>\n",
              "    .dataframe tbody tr th:only-of-type {\n",
              "        vertical-align: middle;\n",
              "    }\n",
              "\n",
              "    .dataframe tbody tr th {\n",
              "        vertical-align: top;\n",
              "    }\n",
              "\n",
              "    .dataframe thead th {\n",
              "        text-align: right;\n",
              "    }\n",
              "</style>\n",
              "<table border=\"1\" class=\"dataframe\">\n",
              "  <thead>\n",
              "    <tr style=\"text-align: right;\">\n",
              "      <th></th>\n",
              "      <th>car_r_t</th>\n",
              "      <th>geometry</th>\n",
              "      <th>car_m_d</th>\n",
              "      <th>car_m_t</th>\n",
              "      <th>car_r_d</th>\n",
              "      <th>from_id</th>\n",
              "      <th>pt_m_d</th>\n",
              "      <th>pt_m_t</th>\n",
              "      <th>pt_m_tt</th>\n",
              "      <th>pt_r_d</th>\n",
              "      <th>pt_r_t</th>\n",
              "      <th>pt_r_tt</th>\n",
              "      <th>to_id</th>\n",
              "      <th>walk_d</th>\n",
              "      <th>walk_t</th>\n",
              "      <th>GML_ID</th>\n",
              "      <th>NAMEFIN</th>\n",
              "      <th>NAMESWE</th>\n",
              "      <th>NATCODE</th>\n",
              "    </tr>\n",
              "  </thead>\n",
              "  <tbody>\n",
              "    <tr>\n",
              "      <th>0</th>\n",
              "      <td>-1</td>\n",
              "      <td>MULTIPOLYGON (((384750.000 6670000.000, 384500...</td>\n",
              "      <td>-1</td>\n",
              "      <td>-1</td>\n",
              "      <td>-1</td>\n",
              "      <td>5913094</td>\n",
              "      <td>-1</td>\n",
              "      <td>-1</td>\n",
              "      <td>-1</td>\n",
              "      <td>-1</td>\n",
              "      <td>-1</td>\n",
              "      <td>-1</td>\n",
              "      <td>-1</td>\n",
              "      <td>-1</td>\n",
              "      <td>-1</td>\n",
              "      <td>27517366</td>\n",
              "      <td>Helsinki</td>\n",
              "      <td>Helsingfors</td>\n",
              "      <td>091</td>\n",
              "    </tr>\n",
              "    <tr>\n",
              "      <th>1</th>\n",
              "      <td>0</td>\n",
              "      <td>POLYGON ((385750.000 6672000.000, 385750.000 6...</td>\n",
              "      <td>0</td>\n",
              "      <td>0</td>\n",
              "      <td>0</td>\n",
              "      <td>5975375</td>\n",
              "      <td>0</td>\n",
              "      <td>0</td>\n",
              "      <td>0</td>\n",
              "      <td>0</td>\n",
              "      <td>0</td>\n",
              "      <td>0</td>\n",
              "      <td>5975375</td>\n",
              "      <td>0</td>\n",
              "      <td>0</td>\n",
              "      <td>27517366</td>\n",
              "      <td>Helsinki</td>\n",
              "      <td>Helsingfors</td>\n",
              "      <td>091</td>\n",
              "    </tr>\n",
              "    <tr>\n",
              "      <th>2</th>\n",
              "      <td>7</td>\n",
              "      <td>POLYGON ((386250.000 6671750.000, 386000.000 6...</td>\n",
              "      <td>1051</td>\n",
              "      <td>7</td>\n",
              "      <td>1051</td>\n",
              "      <td>5973739</td>\n",
              "      <td>617</td>\n",
              "      <td>5</td>\n",
              "      <td>6</td>\n",
              "      <td>617</td>\n",
              "      <td>5</td>\n",
              "      <td>6</td>\n",
              "      <td>5975375</td>\n",
              "      <td>448</td>\n",
              "      <td>6</td>\n",
              "      <td>27517366</td>\n",
              "      <td>Helsinki</td>\n",
              "      <td>Helsingfors</td>\n",
              "      <td>091</td>\n",
              "    </tr>\n",
              "    <tr>\n",
              "      <th>3</th>\n",
              "      <td>8</td>\n",
              "      <td>MULTIPOLYGON (((386000.000 6671500.000, 385750...</td>\n",
              "      <td>1286</td>\n",
              "      <td>8</td>\n",
              "      <td>1286</td>\n",
              "      <td>5973736</td>\n",
              "      <td>706</td>\n",
              "      <td>10</td>\n",
              "      <td>10</td>\n",
              "      <td>706</td>\n",
              "      <td>10</td>\n",
              "      <td>10</td>\n",
              "      <td>5975375</td>\n",
              "      <td>706</td>\n",
              "      <td>10</td>\n",
              "      <td>27517366</td>\n",
              "      <td>Helsinki</td>\n",
              "      <td>Helsingfors</td>\n",
              "      <td>091</td>\n",
              "    </tr>\n",
              "    <tr>\n",
              "      <th>4</th>\n",
              "      <td>9</td>\n",
              "      <td>MULTIPOLYGON (((385000.000 6671250.000, 385000...</td>\n",
              "      <td>1871</td>\n",
              "      <td>9</td>\n",
              "      <td>1871</td>\n",
              "      <td>5970457</td>\n",
              "      <td>1384</td>\n",
              "      <td>11</td>\n",
              "      <td>13</td>\n",
              "      <td>1394</td>\n",
              "      <td>11</td>\n",
              "      <td>12</td>\n",
              "      <td>5975375</td>\n",
              "      <td>1249</td>\n",
              "      <td>18</td>\n",
              "      <td>27517366</td>\n",
              "      <td>Helsinki</td>\n",
              "      <td>Helsingfors</td>\n",
              "      <td>091</td>\n",
              "    </tr>\n",
              "  </tbody>\n",
              "</table>\n",
              "</div>\n",
              "      <button class=\"colab-df-convert\" onclick=\"convertToInteractive('df-7670b92a-a401-43c0-a058-8c535c4130de')\"\n",
              "              title=\"Convert this dataframe to an interactive table.\"\n",
              "              style=\"display:none;\">\n",
              "        \n",
              "  <svg xmlns=\"http://www.w3.org/2000/svg\" height=\"24px\"viewBox=\"0 0 24 24\"\n",
              "       width=\"24px\">\n",
              "    <path d=\"M0 0h24v24H0V0z\" fill=\"none\"/>\n",
              "    <path d=\"M18.56 5.44l.94 2.06.94-2.06 2.06-.94-2.06-.94-.94-2.06-.94 2.06-2.06.94zm-11 1L8.5 8.5l.94-2.06 2.06-.94-2.06-.94L8.5 2.5l-.94 2.06-2.06.94zm10 10l.94 2.06.94-2.06 2.06-.94-2.06-.94-.94-2.06-.94 2.06-2.06.94z\"/><path d=\"M17.41 7.96l-1.37-1.37c-.4-.4-.92-.59-1.43-.59-.52 0-1.04.2-1.43.59L10.3 9.45l-7.72 7.72c-.78.78-.78 2.05 0 2.83L4 21.41c.39.39.9.59 1.41.59.51 0 1.02-.2 1.41-.59l7.78-7.78 2.81-2.81c.8-.78.8-2.07 0-2.86zM5.41 20L4 18.59l7.72-7.72 1.47 1.35L5.41 20z\"/>\n",
              "  </svg>\n",
              "      </button>\n",
              "      \n",
              "  <style>\n",
              "    .colab-df-container {\n",
              "      display:flex;\n",
              "      flex-wrap:wrap;\n",
              "      gap: 12px;\n",
              "    }\n",
              "\n",
              "    .colab-df-convert {\n",
              "      background-color: #E8F0FE;\n",
              "      border: none;\n",
              "      border-radius: 50%;\n",
              "      cursor: pointer;\n",
              "      display: none;\n",
              "      fill: #1967D2;\n",
              "      height: 32px;\n",
              "      padding: 0 0 0 0;\n",
              "      width: 32px;\n",
              "    }\n",
              "\n",
              "    .colab-df-convert:hover {\n",
              "      background-color: #E2EBFA;\n",
              "      box-shadow: 0px 1px 2px rgba(60, 64, 67, 0.3), 0px 1px 3px 1px rgba(60, 64, 67, 0.15);\n",
              "      fill: #174EA6;\n",
              "    }\n",
              "\n",
              "    [theme=dark] .colab-df-convert {\n",
              "      background-color: #3B4455;\n",
              "      fill: #D2E3FC;\n",
              "    }\n",
              "\n",
              "    [theme=dark] .colab-df-convert:hover {\n",
              "      background-color: #434B5C;\n",
              "      box-shadow: 0px 1px 3px 1px rgba(0, 0, 0, 0.15);\n",
              "      filter: drop-shadow(0px 1px 2px rgba(0, 0, 0, 0.3));\n",
              "      fill: #FFFFFF;\n",
              "    }\n",
              "  </style>\n",
              "\n",
              "      <script>\n",
              "        const buttonEl =\n",
              "          document.querySelector('#df-7670b92a-a401-43c0-a058-8c535c4130de button.colab-df-convert');\n",
              "        buttonEl.style.display =\n",
              "          google.colab.kernel.accessAllowed ? 'block' : 'none';\n",
              "\n",
              "        async function convertToInteractive(key) {\n",
              "          const element = document.querySelector('#df-7670b92a-a401-43c0-a058-8c535c4130de');\n",
              "          const dataTable =\n",
              "            await google.colab.kernel.invokeFunction('convertToInteractive',\n",
              "                                                     [key], {});\n",
              "          if (!dataTable) return;\n",
              "\n",
              "          const docLinkHtml = 'Like what you see? Visit the ' +\n",
              "            '<a target=\"_blank\" href=https://colab.research.google.com/notebooks/data_table.ipynb>data table notebook</a>'\n",
              "            + ' to learn more about interactive tables.';\n",
              "          element.innerHTML = '';\n",
              "          dataTable['output_type'] = 'display_data';\n",
              "          await google.colab.output.renderOutput(dataTable, element);\n",
              "          const docLink = document.createElement('div');\n",
              "          docLink.innerHTML = docLinkHtml;\n",
              "          element.appendChild(docLink);\n",
              "        }\n",
              "      </script>\n",
              "    </div>\n",
              "  </div>\n",
              "  "
            ]
          },
          "metadata": {},
          "execution_count": 20
        }
      ]
    },
    {
      "cell_type": "code",
      "source": [
        "dissolved.plot(column=\"car_r_t\")"
      ],
      "metadata": {
        "colab": {
          "base_uri": "https://localhost:8080/",
          "height": 294
        },
        "id": "wYm6jUQfBv9U",
        "outputId": "609b1595-b534-45b9-e699-b79dcc2b1a5d"
      },
      "execution_count": null,
      "outputs": [
        {
          "output_type": "execute_result",
          "data": {
            "text/plain": [
              "<AxesSubplot:>"
            ]
          },
          "metadata": {},
          "execution_count": 21
        },
        {
          "output_type": "display_data",
          "data": {
            "text/plain": [
              "<Figure size 432x288 with 1 Axes>"
            ],
            "image/png": "[encoded data removed]"
          },
          "metadata": {
            "needs_background": "light"
          }
        }
      ]
    },
    {
      "cell_type": "markdown",
      "source": [
        "여기까지 중첩분석."
      ],
      "metadata": {
        "id": "ezGsdQruCHhS"
      }
    },
    {
      "cell_type": "markdown",
      "source": [
        "----------------------------------------------"
      ],
      "metadata": {
        "id": "KmchoJVM3i5b"
      }
    },
    {
      "cell_type": "code",
      "source": [
        "grid_fp = \"/content/drive/MyDrive/몰룽?/dataE5/dataE5/TravelTimes_to_5975375_RailwayStation.shp\"\n",
        "roads_fp = \"/content/drive/MyDrive/몰룽?/dataE5/dataE5/roads.shp\"\n",
        "metro_fp = \"/content/drive/MyDrive/몰룽?/dataE5/dataE5/metro.shp\""
      ],
      "metadata": {
        "id": "a6zo8NxC3kIj"
      },
      "execution_count": null,
      "outputs": []
    },
    {
      "cell_type": "code",
      "source": [
        "grid = gpd.read_file(grid_fp)\n",
        "roads = gpd.read_file(roads_fp)\n",
        "metro = gpd.read_file(metro_fp)"
      ],
      "metadata": {
        "id": "HtmF0I0M3kqK"
      },
      "execution_count": null,
      "outputs": []
    },
    {
      "cell_type": "code",
      "source": [
        "print(roads.crs)\n",
        "print(metro.crs)\n",
        "print(grid.crs)"
      ],
      "metadata": {
        "colab": {
          "base_uri": "https://localhost:8080/"
        },
        "id": "bgIIhEHG4NRU",
        "outputId": "508224ea-6980-4cdf-8ad3-6082e3a0bd51"
      },
      "execution_count": null,
      "outputs": [
        {
          "output_type": "stream",
          "name": "stdout",
          "text": [
            "EPSG:2392\n",
            "EPSG:2392\n",
            "EPSG:3067\n"
          ]
        }
      ]
    },
    {
      "cell_type": "code",
      "source": [
        "print(f\"Roads crs: {CRS(roads.crs).name}\")\n",
        "print(f\"Metro crs: {CRS(metro.crs).name}\")\n",
        "print(f\"Grid crs: {CRS(grid.crs).name}\")"
      ],
      "metadata": {
        "colab": {
          "base_uri": "https://localhost:8080/"
        },
        "id": "-2P-7fKy4Nm0",
        "outputId": "882f2d5c-e35f-4c40-e1da-9a21ae9259c8"
      },
      "execution_count": null,
      "outputs": [
        {
          "output_type": "stream",
          "name": "stdout",
          "text": [
            "Roads crs: KKJ / Finland zone 2\n",
            "Metro crs: KKJ / Finland zone 2\n",
            "Grid crs: ETRS89 / TM35FIN(E,N)\n"
          ]
        }
      ]
    },
    {
      "cell_type": "code",
      "source": [
        "roads = roads.to_crs(crs=grid.crs)\n",
        "metro = metro.to_crs(crs=grid.crs)"
      ],
      "metadata": {
        "id": "Z7tFjfet4WZp"
      },
      "execution_count": null,
      "outputs": []
    },
    {
      "cell_type": "code",
      "source": [
        "roads.crs == metro.crs == grid.crs"
      ],
      "metadata": {
        "colab": {
          "base_uri": "https://localhost:8080/"
        },
        "id": "RjLELno64hQC",
        "outputId": "fa054319-1767-4326-e59e-27b227cbab92"
      },
      "execution_count": null,
      "outputs": [
        {
          "output_type": "execute_result",
          "data": {
            "text/plain": [
              "True"
            ]
          },
          "metadata": {},
          "execution_count": 56
        }
      ]
    },
    {
      "cell_type": "code",
      "source": [
        "ax = dissolved.plot(facecolor='gray')\n",
        "roads.plot(ax=ax, color=\"red\", linewidth=1.5)\n",
        "metro.plot(ax=ax, color=\"blue\", linewidth=2.5)"
      ],
      "metadata": {
        "colab": {
          "base_uri": "https://localhost:8080/",
          "height": 294
        },
        "id": "1CzP_1Rh4jsU",
        "outputId": "a877e016-ea98-477f-ff3c-93e0da0bee50"
      },
      "execution_count": null,
      "outputs": [
        {
          "output_type": "execute_result",
          "data": {
            "text/plain": [
              "<matplotlib.axes._subplots.AxesSubplot at 0x7f109b1006d0>"
            ]
          },
          "metadata": {},
          "execution_count": 73
        },
        {
          "output_type": "display_data",
          "data": {
            "text/plain": [
              "<Figure size 432x288 with 1 Axes>"
            ],
            "image/png": "[encoded data removed]"
          },
          "metadata": {
            "needs_background": "light"
          }
        }
      ]
    },
    {
      "cell_type": "code",
      "source": [
        "inters2 = gpd.overlay(roads, dissolved, how='intersection')\n",
        "inters2.plot()"
      ],
      "metadata": {
        "colab": {
          "base_uri": "https://localhost:8080/",
          "height": 284
        },
        "id": "N2Woctoo6_PC",
        "outputId": "b79967d4-e83e-4cfb-9bef-ef62b9363151"
      },
      "execution_count": null,
      "outputs": [
        {
          "output_type": "execute_result",
          "data": {
            "text/plain": [
              "<matplotlib.axes._subplots.AxesSubplot at 0x7f109b086670>"
            ]
          },
          "metadata": {},
          "execution_count": 72
        },
        {
          "output_type": "display_data",
          "data": {
            "text/plain": [
              "<Figure size 432x288 with 1 Axes>"
            ],
            "image/png": "[encoded data removed]"
          },
          "metadata": {
            "needs_background": "light"
          }
        }
      ]
    },
    {
      "cell_type": "code",
      "source": [
        "ax = dissolved.plot(facecolor='gray')\n",
        "inters2.plot(ax=ax, color=\"skyblue\", linewidth=1.5)\n",
        "metro.plot(ax=ax, color=\"blue\", linewidth=2.5)\n",
        "selection.plot(ax=ax, facecolor='red')"
      ],
      "metadata": {
        "colab": {
          "base_uri": "https://localhost:8080/",
          "height": 294
        },
        "id": "cKuzVg81-T3C",
        "outputId": "2d1f57c5-4f2b-4669-fdd7-458076cfa8f7"
      },
      "execution_count": null,
      "outputs": [
        {
          "output_type": "execute_result",
          "data": {
            "text/plain": [
              "<matplotlib.axes._subplots.AxesSubplot at 0x7f1099ff8910>"
            ]
          },
          "metadata": {},
          "execution_count": 79
        },
        {
          "output_type": "display_data",
          "data": {
            "text/plain": [
              "<Figure size 432x288 with 1 Axes>"
            ],
            "image/png": "[encoded data removed]"
          },
          "metadata": {
            "needs_background": "light"
          }
        }
      ]
    },
    {
      "cell_type": "code",
      "source": [],
      "metadata": {
        "id": "WgMX1sob-uL5"
      },
      "execution_count": null,
      "outputs": []
    }
  ]
}