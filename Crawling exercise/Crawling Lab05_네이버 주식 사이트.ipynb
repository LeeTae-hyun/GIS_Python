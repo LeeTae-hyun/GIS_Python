{
 "cells": [
  {
   "cell_type": "code",
   "execution_count": 28,
   "id": "3e825230",
   "metadata": {},
   "outputs": [
    {
     "name": "stdout",
     "output_type": "stream",
     "text": [
      "종목: 다우산업 현재 지수 34,098.16 전날 대비 상승\n",
      "종목: 나스닥 현재 지수 12,226.58 전날 대비 상승\n",
      "종목: 홍콩H 현재 지수 6,702.15 전날 대비 상승\n",
      "종목: 상해종합 현재 지수 3,323.28 전날 대비 상승\n",
      "종목: 니케이225 현재 지수 28,856.44 전날 대비 상승\n"
     ]
    }
   ],
   "source": [
    "import requests\n",
    "from bs4 import BeautifulSoup\n",
    "res = requests.get('https://finance.naver.com/sise/')\n",
    "soup = BeautifulSoup(res.content, 'html.parser')\n",
    "data = soup.select('div.rgt > ul.lst_major > li')\n",
    "\n",
    "for item in data:\n",
    "    print(\"종목:\", item.find('a').get_text().strip(), \n",
    "          \"현재 지수\", item.select_one('span').get_text(),\n",
    "          \"전날 대비\", item.find('em').get_text()\n",
    "         )"
   ]
  }
 ],
 "metadata": {
  "kernelspec": {
   "display_name": "Python 3 (ipykernel)",
   "language": "python",
   "name": "python3"
  },
  "language_info": {
   "codemirror_mode": {
    "name": "ipython",
    "version": 3
   },
   "file_extension": ".py",
   "mimetype": "text/x-python",
   "name": "python",
   "nbconvert_exporter": "python",
   "pygments_lexer": "ipython3",
   "version": "3.9.13"
  }
 },
 "nbformat": 4,
 "nbformat_minor": 5
}
