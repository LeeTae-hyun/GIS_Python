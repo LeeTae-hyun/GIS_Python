{
 "cells": [
  {
   "cell_type": "markdown",
   "id": "0505d37c",
   "metadata": {},
   "source": [
    "동일한 기능을 하는 다양한 코드와 문법\\\n",
    "CSS Selector = find \\\n",
    "정답은 없지만, 둘 다 사용할 줄 알아야한다.\\\n",
    "select(), ()안에 태그나 CSS class 이름등을 넣어주면 된다.\\\n",
    "결과값은 리스트 형태로 반환(find_all 처럼)\\\n",
    "매칭되는 첫번째 데이터만 얻을 때(그냥 find 처럼)는 select_one()"
   ]
  },
  {
   "cell_type": "code",
   "execution_count": 22,
   "id": "3aa479d3",
   "metadata": {},
   "outputs": [
    {
     "name": "stdout",
     "output_type": "stream",
     "text": [
      "나만의 엣지있는 블로그 사이트 만들기 (취미로 익히는 IT)\n",
      "파이썬과 데이터과학 첫걸음 (IT 기본기 익히기)\n"
     ]
    }
   ],
   "source": [
    "#태그 선택\n",
    "import requests\n",
    "from bs4 import BeautifulSoup\n",
    "\n",
    "res = requests.get('https://davelee-fun.github.io/blog/crawl_test_css.html')\n",
    "soup = BeautifulSoup(res.content, 'html.parser')\n",
    "items = soup.select('h3')\n",
    "\n",
    "for item in items:\n",
    "    print(item.string)"
   ]
  },
  {
   "cell_type": "code",
   "execution_count": 21,
   "id": "a21b1c8f",
   "metadata": {},
   "outputs": [
    {
     "name": "stdout",
     "output_type": "stream",
     "text": [
      "(왕초보) - 클래스 소개\n",
      "(왕초보) - 블로그 개발 필요한 준비물 준비하기\n",
      "(왕초보) - Github pages 설정해서 블로그 첫 페이지 만들어보기\n",
      "(왕초보) - 초간단 페이지 만들어보기\n",
      "(왕초보) - 이쁘게 테마 적용해보기\n",
      "(왕초보) - 마크다운 기초 이해하고, 실제 나만의 블로그 페이지 만들기\n",
      "(왕초보) - 다양한 마크다운 기법 익혀보며, 나만의 블로그 페이지 꾸며보기\n",
      "(초급) - 강사가 실제 사용하는 자동 프로그램 소개 [2]\n",
      "(초급) - 필요한 프로그램 설치 시연 [5]\n",
      "(초급) - 데이터를 엑셀 파일로 만들기 [9]\n",
      "(초급) -     엑셀 파일 이쁘게! 이쁘게! [8]\n",
      "(초급) -     나대신 주기적으로 파이썬 프로그램 실행하기 [7]\n",
      "(초급) - 파이썬으로 슬랙(slack) 메신저에 글쓰기 [40]\n",
      "(초급) - 웹사이트 변경사항 주기적으로 체크해서, 메신저로 알람주기 [12]\n",
      "(초급) - 네이버 API 사용해서, 블로그에 글쓰기 [42]\n",
      "(중급) - 자동으로 쿠팡파트너스 API 로 가져온 상품 정보, 네이버 블로그/트위터에 홍보하기 [412]\n"
     ]
    }
   ],
   "source": [
    "#하위 태그 선택\n",
    "import requests\n",
    "from bs4 import BeautifulSoup\n",
    "\n",
    "res = requests.get('https://davelee-fun.github.io/blog/crawl_test_css.html')\n",
    "soup = BeautifulSoup(res.content, 'html.parser')\n",
    "items = soup.select('ul > li > a') \n",
    "# >를 사용할때는 ul과 li 사이에 다른 태그가 있으면 출력 x, \n",
    "# >를 사용을 하지 않고 띄워쓰게 되면 ul과 li사이에 존재하는 다른 태그들도 다 출력됨 \n",
    "\n",
    "for item in items:\n",
    "    print(item.string)\n"
   ]
  },
  {
   "cell_type": "code",
   "execution_count": 20,
   "id": "2bc7c93a",
   "metadata": {},
   "outputs": [
    {
     "name": "stdout",
     "output_type": "stream",
     "text": [
      "(왕초보) - 클래스 소개\n",
      "(왕초보) - 블로그 개발 필요한 준비물 준비하기\n",
      "(왕초보) - Github pages 설정해서 블로그 첫 페이지 만들어보기\n",
      "(왕초보) - 초간단 페이지 만들어보기\n",
      "(왕초보) - 이쁘게 테마 적용해보기\n",
      "(왕초보) - 마크다운 기초 이해하고, 실제 나만의 블로그 페이지 만들기\n",
      "(왕초보) - 다양한 마크다운 기법 익혀보며, 나만의 블로그 페이지 꾸며보기\n",
      "(초급) - 강사가 실제 사용하는 자동 프로그램 소개 [2]\n",
      "(초급) - 필요한 프로그램 설치 시연 [5]\n",
      "(초급) - 데이터를 엑셀 파일로 만들기 [9]\n",
      "(초급) -     엑셀 파일 이쁘게! 이쁘게! [8]\n",
      "(초급) -     나대신 주기적으로 파이썬 프로그램 실행하기 [7]\n",
      "(초급) - 파이썬으로 슬랙(slack) 메신저에 글쓰기 [40]\n",
      "(초급) - 웹사이트 변경사항 주기적으로 체크해서, 메신저로 알람주기 [12]\n",
      "(초급) - 네이버 API 사용해서, 블로그에 글쓰기 [42]\n",
      "(중급) - 자동으로 쿠팡파트너스 API 로 가져온 상품 정보, 네이버 블로그/트위터에 홍보하기 [412]\n"
     ]
    }
   ],
   "source": [
    "# css class 이름으로 검색\n",
    "# select(.클래스이름) 으로 검색\n",
    "import requests\n",
    "from bs4 import BeautifulSoup\n",
    "\n",
    "res = requests.get('https://davelee-fun.github.io/blog/crawl_test_css.html')\n",
    "soup = BeautifulSoup(res.content, 'html.parser')\n",
    "items = soup.select('.course')\n",
    "\n",
    "for item in items:\n",
    "    print(item.string)"
   ]
  },
  {
   "cell_type": "code",
   "execution_count": 31,
   "id": "4db58c21",
   "metadata": {},
   "outputs": [
    {
     "name": "stdout",
     "output_type": "stream",
     "text": [
      "\n",
      "(왕초보) - 클래스 소개\n",
      "(왕초보) - 블로그 개발 필요한 준비물 준비하기\n",
      "(왕초보) - Github pages 설정해서 블로그 첫 페이지 만들어보기\n",
      "(왕초보) - 초간단 페이지 만들어보기\n",
      "(왕초보) - 이쁘게 테마 적용해보기\n",
      "(왕초보) - 마크다운 기초 이해하고, 실제 나만의 블로그 페이지 만들기\n",
      "(왕초보) - 다양한 마크다운 기법 익혀보며, 나만의 블로그 페이지 꾸며보기\n",
      "\n"
     ]
    }
   ],
   "source": [
    "# id 이름으로 검색\n",
    "# select(#id이름)으로 검색가능\n",
    "import requests\n",
    "from bs4 import BeautifulSoup\n",
    "\n",
    "res = requests.get('https://davelee-fun.github.io/blog/crawl_test_css.html')\n",
    "soup = BeautifulSoup(res.content, 'html.parser')\n",
    "items = soup.select('#hobby_course_list')\n",
    "\n",
    "for item in items:\n",
    "    print(item.get_text())"
   ]
  },
  {
   "cell_type": "code",
   "execution_count": 23,
   "id": "2c09377b",
   "metadata": {},
   "outputs": [
    {
     "name": "stdout",
     "output_type": "stream",
     "text": [
      "(중급) - 자동으로 쿠팡파트너스 API 로 가져온 상품 정보, 네이버 블로그/트위터에 홍보하기 [412]\n"
     ]
    }
   ],
   "source": [
    "# 클래스 이름 여러개일때\n",
    "# select(태그.클래스 이름1.클래스 이름2. ....)으로 검색\n",
    "import requests\n",
    "from bs4 import BeautifulSoup\n",
    "\n",
    "res = requests.get('https://davelee-fun.github.io/blog/crawl_test_css.html')\n",
    "soup = BeautifulSoup(res.content, 'html.parser')\n",
    "items = soup.select('li.course.paid')\n",
    "\n",
    "for item in items:\n",
    "    print(item.string)"
   ]
  },
  {
   "cell_type": "code",
   "execution_count": 62,
   "id": "983d341c",
   "metadata": {},
   "outputs": [
    {
     "name": "stdout",
     "output_type": "stream",
     "text": [
      "(중급) - 자동으로 쿠팡파트너스 API 로 가져온 상품 정보, 네이버 블로그/트위터에 홍보하기 [412]\n"
     ]
    }
   ],
   "source": [
    "# 복합 사용\n",
    "import requests\n",
    "from bs4 import BeautifulSoup\n",
    "\n",
    "res = requests.get('https://davelee-fun.github.io/blog/crawl_test_css.html')\n",
    "soup = BeautifulSoup(res.content, 'html.parser')\n",
    "items = soup.select('ul#dev_course_list li.course.paid')\n",
    "# 태그#id이름 >(하위태그를 선택해야 하니 한칸 띄우거나 꺽쇠 사용) 태그.클래스 이름\n",
    "\n",
    "for item in items:\n",
    "    print(item.get_text())"
   ]
  },
  {
   "cell_type": "code",
   "execution_count": 70,
   "id": "a9f55896",
   "metadata": {},
   "outputs": [
    {
     "name": "stdout",
     "output_type": "stream",
     "text": [
      "(중급) - 자동으로 쿠팡파트너스 API 로 가져온 상품 정보, 네이버 블로그/트위터에 홍보하기 [412]\n"
     ]
    }
   ],
   "source": [
    "# select_one\n",
    "import requests\n",
    "from bs4 import BeautifulSoup\n",
    "\n",
    "res = requests.get('https://davelee-fun.github.io/blog/crawl_test_css.html')\n",
    "soup = BeautifulSoup(res.content, 'html.parser')\n",
    "items = soup.select_one('ul#dev_course_list > li.course.paid')\n",
    "print(items.get_text())"
   ]
  },
  {
   "cell_type": "code",
   "execution_count": 87,
   "id": "f303106c",
   "metadata": {},
   "outputs": [
    {
     "name": "stdout",
     "output_type": "stream",
     "text": [
      "일정,커리큘럼 타이틀,난이도\n",
      "5.1 ~ 6.15,나만의 엣지있는 블로그 사이트 만들기 (취미로 익히는 IT),초급\n",
      "6.16 ~ 7.31,파이썬과 데이터과학 첫걸음 (IT 기본기 익히기),중급\n"
     ]
    }
   ],
   "source": [
    "## find와 select는 호환가능\n",
    "import requests\n",
    "from bs4 import BeautifulSoup\n",
    "\n",
    "res = requests.get('https://davelee-fun.github.io/blog/crawl_html_css.html')\n",
    "soup = BeautifulSoup(res.content, 'html.parser')\n",
    "items = soup.select('tr')\n",
    "\n",
    "for item in items:\n",
    "    columns = item.select('td')\n",
    "    row_str = ''\n",
    "    #첫번째 반복문을 출력하면 행,렬 구분이 안되기에 행렬 구분을 위해 반복문을 하나 더 설정\n",
    "    for column in columns:\n",
    "        row_str += ',' + column.get_text() # += >> row_str + column.get_text()\n",
    "        #두번째 반복문을 거쳐 첫번째 반복문에 있는 row_str이 출력되야함.\n",
    "    print(row_str[1:]) #첫번째 반복문을 통해 출력되야 하므로 띄어쓰기를 조절해주고, 문자열 슬라이싱을 통해 앞에 콤마 삭제"
   ]
  }
 ],
 "metadata": {
  "kernelspec": {
   "display_name": "Python 3 (ipykernel)",
   "language": "python",
   "name": "python3"
  },
  "language_info": {
   "codemirror_mode": {
    "name": "ipython",
    "version": 3
   },
   "file_extension": ".py",
   "mimetype": "text/x-python",
   "name": "python",
   "nbconvert_exporter": "python",
   "pygments_lexer": "ipython3",
   "version": "3.9.13"
  }
 },
 "nbformat": 4,
 "nbformat_minor": 5
}
